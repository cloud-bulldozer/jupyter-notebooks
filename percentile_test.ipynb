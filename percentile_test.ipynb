{
 "cells": [
  {
   "cell_type": "code",
   "execution_count": null,
   "source": [
    "!pip3 install git+https://github.com/Ayesha279/benchmark-comparison.git@multiRecord_touchstone\n",
    "from touchstone import __version__\n",
    "from touchstone.benchmarks.generic import Benchmark\n",
    "from touchstone import decision_maker\n",
    "from touchstone import databases\n",
    "from touchstone.utils.lib import mergedicts, flatten_and_discard\n",
    "from touchstone.utils.lib import mergedicts, flatten_and_discard\n",
    "from tabulate import tabulate\n",
    "import pandas as pd\n",
    "import matplotlib.pyplot as plt\n",
    "import os\n",
    "\n",
    "plt.style.use('ggplot')\n",
    "\n",
    "compute_header = []\n",
    "uuid=\"aeed6306-b7e1-11eb-b313-e86a640406b2\"\n",
    "database=\"elasticsearch\"\n",
    "es_url=os.environ.get('ES_URL')\n",
    "benchmark=Benchmark(open(\"percentileTest.json\"), database)\n",
    "main = {}\n",
    "\n",
    "for compute in benchmark.compute_map['ocm-requests'] :\n",
    "    conn=databases.grab(database,es_url)\n",
    "    result=conn.emit_compute_dict(uuid,\n",
    "                                  compute,\n",
    "                                  \"ocm-requests\",\n",
    "                                  \"uuid\")\n",
    "    mergedicts(result,main)"
   ],
   "outputs": [],
   "metadata": {}
  },
  {
   "cell_type": "code",
   "execution_count": null,
   "source": [
    "for key in compute.get(\"filter\", []):\n",
    "        compute_header.append(key.split(\".keyword\")[0])\n",
    "for bucket in compute.get(\"buckets\", []):\n",
    "        compute_header.append(bucket.split(\".keyword\")[0])\n",
    "for extra_h in [\"key\", 'uuid', \"value\"]:\n",
    "        compute_header.append(extra_h)\n",
    "        row_list = []\n",
    "flatten_and_discard(main, compute_header, row_list)\n",
    "print(\n",
    "    tabulate(row_list, headers=compute_header, tablefmt=\"pretty\")\n",
    ")"
   ],
   "outputs": [],
   "metadata": {}
  },
  {
   "cell_type": "code",
   "execution_count": null,
   "source": [
    "df1 =pd.DataFrame.from_records(\n",
    "    [\n",
    "        (level1, level2, level3, level4, level5, level6, level7, level8, leaf)\n",
    "        for level1, level2_dict in result.items()\n",
    "        for level2, level3_dict in level2_dict.items()\n",
    "        for level3, level4_dict in level3_dict.items()\n",
    "        for level4, level5_dict in level4_dict.items()\n",
    "        for level5, level6_dict in level5_dict.items()\n",
    "        for level6, level7_dict in level6_dict.items()\n",
    "        for level7, level8_dict in level7_dict.items()\n",
    "        for level8, leaf in level8_dict.items()\n",
    "    ],\n",
    "    columns=['type1', 'test_name', 'type2', 'Method', 'type3','Code', 'KEY', 'UUID', 'Latency']\n",
    ")\n",
    "df1 =df1.drop(columns=['type1', 'type2', 'type3'])\n",
    "print(df1)"
   ],
   "outputs": [],
   "metadata": {}
  },
  {
   "cell_type": "code",
   "execution_count": null,
   "source": [
    "TestAvg= df1.groupby(['test_name'])['Latency'].mean()\n",
    "\n",
    "TestAvg.plot(kind='bar', title='Latency Test Avrage', ylabel='Mean Latency',\n",
    "         xlabel='test_name', figsize=(6, 5))"
   ],
   "outputs": [],
   "metadata": {}
  },
  {
   "cell_type": "code",
   "execution_count": null,
   "source": [
    "x= df1.groupby(['KEY'])['Latency'].mean()\n",
    "\n",
    "x.plot(kind='bar', title='Latency Test Avrage', ylabel='Mean Latency',\n",
    "         xlabel='test_name', figsize=(6, 5))"
   ],
   "outputs": [],
   "metadata": {}
  },
  {
   "cell_type": "markdown",
   "source": [],
   "metadata": {}
  }
 ],
 "metadata": {
  "kernelspec": {
   "display_name": "Python 3 (ipykernel)",
   "language": "python",
   "name": "python3"
  },
  "language_info": {
   "codemirror_mode": {
    "name": "ipython",
    "version": 3
   },
   "file_extension": ".py",
   "mimetype": "text/x-python",
   "name": "python",
   "nbconvert_exporter": "python",
   "pygments_lexer": "ipython3",
   "version": "3.9.5"
  }
 },
 "nbformat": 4,
 "nbformat_minor": 5
}
